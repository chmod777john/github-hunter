{
 "cells": [
  {
   "cell_type": "code",
   "execution_count": 1,
   "metadata": {},
   "outputs": [
    {
     "name": "stderr",
     "output_type": "stream",
     "text": [
      "/home/codespace/.python/current/lib/python3.12/site-packages/google/cloud/bigquery/table.py:1727: UserWarning: BigQuery Storage module not found, fetch data with the REST endpoint instead.\n",
      "  warnings.warn(\n"
     ]
    }
   ],
   "source": [
    "from google.cloud import bigquery\n",
    "from datetime import datetime, timedelta\n",
    "\n",
    "# Construct a BigQuery client object.\n",
    "client = bigquery.Client()\n",
    "\n",
    "# 获取今天的日期和前一天的日期\n",
    "today = datetime.today()\n",
    "yesterday = today - timedelta(days=1)\n",
    "\n",
    "# 将日期格式化为 BigQuery 查询需要的格式 (YYYYMMDD)\n",
    "today_str = today.strftime('%Y%m%d')\n",
    "yesterday_str = yesterday.strftime('%Y%m%d')\n",
    "\n",
    "# 构建查询字符串\n",
    "query = f\"\"\"\n",
    "WITH watch_data AS (\n",
    "  -- 查询最近一天的 WatchEvent 事件\n",
    "  SELECT \n",
    "    repo.name AS repo_name\n",
    "  FROM \n",
    "    `githubarchive.day.{today_str}`\n",
    "  WHERE \n",
    "    type = 'WatchEvent'\n",
    "  \n",
    "  UNION ALL\n",
    "  \n",
    "  -- 查询前一天的 WatchEvent 事件\n",
    "  SELECT \n",
    "    repo.name AS repo_name\n",
    "  FROM \n",
    "    `githubarchive.day.{yesterday_str}`\n",
    "  WHERE \n",
    "    type = 'WatchEvent'\n",
    ")\n",
    "\n",
    "SELECT \n",
    "  repo_name,\n",
    "  COUNT(*) AS star_count\n",
    "FROM \n",
    "  watch_data\n",
    "GROUP BY \n",
    "  repo_name\n",
    "ORDER BY \n",
    "  star_count DESC\n",
    "LIMIT 1000\n",
    "\"\"\"\n",
    "\n",
    "# 执行查询并等待结果\n",
    "rows = client.query(query)  # 执行查询\n",
    "results = rows.result().to_dataframe()  # 等待查询结果\n",
    "\n",
    "\n"
   ]
  },
  {
   "cell_type": "code",
   "execution_count": null,
   "metadata": {},
   "outputs": [
    {
     "name": "stderr",
     "output_type": "stream",
     "text": [
      "Fetching repo details:  12%|█▏        | 119/1000 [00:41<04:45,  3.09it/s]"
     ]
    },
    {
     "name": "stdout",
     "output_type": "stream",
     "text": [
      "Repository data is None for thisiscindychou/roblox-solara-executors\n"
     ]
    },
    {
     "name": "stderr",
     "output_type": "stream",
     "text": [
      "Fetching repo details:  12%|█▏        | 122/1000 [00:42<04:39,  3.15it/s]"
     ]
    },
    {
     "name": "stdout",
     "output_type": "stream",
     "text": [
      "Repository data is None for timigsh2mos/fortnite-hack-external\n"
     ]
    },
    {
     "name": "stderr",
     "output_type": "stream",
     "text": [
      "Fetching repo details:  32%|███▏      | 323/1000 [01:50<03:40,  3.07it/s]"
     ]
    },
    {
     "name": "stdout",
     "output_type": "stream",
     "text": [
      "Repository data is None for Dilodova/Roblox-Executor-Xeno-v1.0.9\n"
     ]
    },
    {
     "name": "stderr",
     "output_type": "stream",
     "text": [
      "Fetching repo details:  43%|████▎     | 426/1000 [02:26<03:09,  3.02it/s]"
     ]
    },
    {
     "name": "stdout",
     "output_type": "stream",
     "text": [
      "Repository data is None for spear-blackseeker/Solara-Executor-Roblox\n"
     ]
    },
    {
     "name": "stderr",
     "output_type": "stream",
     "text": [
      "Fetching repo details:  47%|████▋     | 469/1000 [02:40<02:59,  2.96it/s]"
     ]
    },
    {
     "name": "stdout",
     "output_type": "stream",
     "text": [
      "Repository data is None for kotskirk852/verse-spoofer\n"
     ]
    },
    {
     "name": "stderr",
     "output_type": "stream",
     "text": [
      "Fetching repo details: 100%|██████████| 1000/1000 [05:43<00:00,  2.91it/s]\n"
     ]
    }
   ],
   "source": [
    "import requests\n",
    "import pandas as pd\n",
    "from tqdm import tqdm\n",
    "\n",
    "\n",
    "# GitHub GraphQL API URL\n",
    "GRAPHQL_URL = \"https://api.github.com/graphql\"\n",
    "\n",
    "# GitHub Token (替换为你的 Token)\n",
    "TOKEN = \"your_token\"\n",
    "\n",
    "# 设置请求头\n",
    "HEADERS = {\n",
    "    \"Authorization\": f\"bearer {TOKEN}\",\n",
    "    \"Content-Type\": \"application/json\"\n",
    "}\n",
    "\n",
    "# 构建 GraphQL 查询模板\n",
    "GRAPHQL_QUERY_TEMPLATE = \"\"\"\n",
    "query {{\n",
    "  repository(owner: \"{repo_owner}\", name: \"{repo_name}\") {{\n",
    "    createdAt\n",
    "    stargazerCount\n",
    "  }}\n",
    "}}\n",
    "\"\"\"\n",
    "\n",
    "# 构建请求函数，使用字符串替换\n",
    "def fetch_repo_details(repo_name):\n",
    "    \"\"\"\n",
    "    使用 GitHub GraphQL API 获取仓库的创建日期和 star 总数。\n",
    "    \"\"\"\n",
    "    # 分割 repo_name 为 owner 和 name\n",
    "    if \"/\" not in repo_name:\n",
    "        return None, None  # 无效的 repo_name\n",
    "    \n",
    "    repo_owner, repo_name_only = repo_name.split(\"/\", 1)\n",
    "\n",
    "    # 构造查询字符串，替换占位符\n",
    "    query = GRAPHQL_QUERY_TEMPLATE.format(repo_owner=repo_owner, repo_name=repo_name_only)\n",
    "    \n",
    "    # 发送请求\n",
    "    try:\n",
    "        response = requests.post(\n",
    "            GRAPHQL_URL,\n",
    "            json={\"query\": query},\n",
    "            headers=HEADERS\n",
    "        )\n",
    "        # 检查请求是否成功\n",
    "        if response.status_code == 200:\n",
    "            data = response.json()\n",
    "            # 确保 data 和 repository 存在且有效\n",
    "            if \"data\" in data and \"repository\" in data[\"data\"]:\n",
    "                repo_data = data[\"data\"][\"repository\"]\n",
    "                if repo_data is not None:\n",
    "                    return repo_data.get(\"createdAt\"), repo_data.get(\"stargazerCount\")\n",
    "                else:\n",
    "                    print(f\"Repository data is None for {repo_name}\")\n",
    "            else:\n",
    "                print(f\"Missing 'data' or 'repository' for {repo_name}\")\n",
    "        else:\n",
    "            print(f\"Failed to fetch data for {repo_name}: {response.status_code}, {response.text}\")\n",
    "    except requests.exceptions.RequestException as e:\n",
    "        # 捕获请求中的异常\n",
    "        print(f\"Request failed for {repo_name}: {str(e)}\")\n",
    "    \n",
    "    # 出现问题时返回 None\n",
    "    return None, None\n",
    "\n",
    "# 从 BigQuery 获取的 DataFrame 示例\n",
    "# 假设你已经得到了如下的 DataFrame\n",
    "df = results  # BigQuery 查询的结果 DataFrame\n",
    "\n",
    "# 添加两列：创建日期和 star 总数\n",
    "df[\"created_at\"] = None\n",
    "df[\"current_star_count\"] = None\n",
    "\n",
    "# 遍历 DataFrame，获取每个 repo 的详细信息\n",
    "for index, row in tqdm(df.iterrows(), total=df.shape[0], desc=\"Fetching repo details\"):\n",
    "    repo_name = row[\"repo_name\"]\n",
    "    created_at, current_star_count = fetch_repo_details(repo_name)\n",
    "    df.at[index, \"created_at\"] = created_at\n",
    "    df.at[index, \"current_star_count\"] = current_star_count\n",
    "\n"
   ]
  },
  {
   "cell_type": "code",
   "execution_count": 26,
   "metadata": {},
   "outputs": [
    {
     "data": {
      "text/html": [
       "<div>\n",
       "<style scoped>\n",
       "    .dataframe tbody tr th:only-of-type {\n",
       "        vertical-align: middle;\n",
       "    }\n",
       "\n",
       "    .dataframe tbody tr th {\n",
       "        vertical-align: top;\n",
       "    }\n",
       "\n",
       "    .dataframe thead th {\n",
       "        text-align: right;\n",
       "    }\n",
       "</style>\n",
       "<table border=\"1\" class=\"dataframe\">\n",
       "  <thead>\n",
       "    <tr style=\"text-align: right;\">\n",
       "      <th></th>\n",
       "      <th>repo_name</th>\n",
       "      <th>star_count</th>\n",
       "      <th>created_at</th>\n",
       "      <th>current_star_count</th>\n",
       "    </tr>\n",
       "  </thead>\n",
       "  <tbody>\n",
       "    <tr>\n",
       "      <th>0</th>\n",
       "      <td>Tencent/HunyuanVideo</td>\n",
       "      <td>1972</td>\n",
       "      <td>2024-11-28T08:38:31Z</td>\n",
       "      <td>2174</td>\n",
       "    </tr>\n",
       "    <tr>\n",
       "      <th>1</th>\n",
       "      <td>LadybirdBrowser/ladybird</td>\n",
       "      <td>1457</td>\n",
       "      <td>2024-05-30T09:18:10Z</td>\n",
       "      <td>24702</td>\n",
       "    </tr>\n",
       "    <tr>\n",
       "      <th>2</th>\n",
       "      <td>huggingface/smol-course</td>\n",
       "      <td>1263</td>\n",
       "      <td>2024-11-25T19:22:43Z</td>\n",
       "      <td>1474</td>\n",
       "    </tr>\n",
       "    <tr>\n",
       "      <th>3</th>\n",
       "      <td>myhhub/stock</td>\n",
       "      <td>973</td>\n",
       "      <td>2023-03-21T01:23:26Z</td>\n",
       "      <td>5233</td>\n",
       "    </tr>\n",
       "    <tr>\n",
       "      <th>4</th>\n",
       "      <td>lobehub/lobe-chat</td>\n",
       "      <td>777</td>\n",
       "      <td>2023-05-21T07:19:12Z</td>\n",
       "      <td>46944</td>\n",
       "    </tr>\n",
       "    <tr>\n",
       "      <th>...</th>\n",
       "      <td>...</td>\n",
       "      <td>...</td>\n",
       "      <td>...</td>\n",
       "      <td>...</td>\n",
       "    </tr>\n",
       "    <tr>\n",
       "      <th>995</th>\n",
       "      <td>xoofx/ultra</td>\n",
       "      <td>25</td>\n",
       "      <td>2024-11-18T09:56:16Z</td>\n",
       "      <td>764</td>\n",
       "    </tr>\n",
       "    <tr>\n",
       "      <th>996</th>\n",
       "      <td>zenml-io/zenml</td>\n",
       "      <td>25</td>\n",
       "      <td>2020-11-19T09:25:46Z</td>\n",
       "      <td>4137</td>\n",
       "    </tr>\n",
       "    <tr>\n",
       "      <th>997</th>\n",
       "      <td>ollama/ollama-python</td>\n",
       "      <td>25</td>\n",
       "      <td>2023-12-09T09:27:18Z</td>\n",
       "      <td>5123</td>\n",
       "    </tr>\n",
       "    <tr>\n",
       "      <th>998</th>\n",
       "      <td>virattt/ai-hedge-fund</td>\n",
       "      <td>25</td>\n",
       "      <td>2024-11-29T16:30:01Z</td>\n",
       "      <td>363</td>\n",
       "    </tr>\n",
       "    <tr>\n",
       "      <th>999</th>\n",
       "      <td>k2-fsa/sherpa-onnx</td>\n",
       "      <td>25</td>\n",
       "      <td>2022-09-01T05:47:33Z</td>\n",
       "      <td>3757</td>\n",
       "    </tr>\n",
       "  </tbody>\n",
       "</table>\n",
       "<p>1000 rows × 4 columns</p>\n",
       "</div>"
      ],
      "text/plain": [
       "                    repo_name  star_count            created_at  \\\n",
       "0        Tencent/HunyuanVideo        1972  2024-11-28T08:38:31Z   \n",
       "1    LadybirdBrowser/ladybird        1457  2024-05-30T09:18:10Z   \n",
       "2     huggingface/smol-course        1263  2024-11-25T19:22:43Z   \n",
       "3                myhhub/stock         973  2023-03-21T01:23:26Z   \n",
       "4           lobehub/lobe-chat         777  2023-05-21T07:19:12Z   \n",
       "..                        ...         ...                   ...   \n",
       "995               xoofx/ultra          25  2024-11-18T09:56:16Z   \n",
       "996            zenml-io/zenml          25  2020-11-19T09:25:46Z   \n",
       "997      ollama/ollama-python          25  2023-12-09T09:27:18Z   \n",
       "998     virattt/ai-hedge-fund          25  2024-11-29T16:30:01Z   \n",
       "999        k2-fsa/sherpa-onnx          25  2022-09-01T05:47:33Z   \n",
       "\n",
       "    current_star_count  \n",
       "0                 2174  \n",
       "1                24702  \n",
       "2                 1474  \n",
       "3                 5233  \n",
       "4                46944  \n",
       "..                 ...  \n",
       "995                764  \n",
       "996               4137  \n",
       "997               5123  \n",
       "998                363  \n",
       "999               3757  \n",
       "\n",
       "[1000 rows x 4 columns]"
      ]
     },
     "execution_count": 26,
     "metadata": {},
     "output_type": "execute_result"
    }
   ],
   "source": [
    "df"
   ]
  },
  {
   "cell_type": "code",
   "execution_count": null,
   "metadata": {},
   "outputs": [
    {
     "name": "stderr",
     "output_type": "stream",
     "text": [
      "Fetching repo details:   0%|          | 0/1000 [00:00<?, ?it/s]"
     ]
    },
    {
     "name": "stderr",
     "output_type": "stream",
     "text": [
      "Fetching repo details:  13%|█▎        | 131/1000 [00:04<00:29, 29.93it/s]"
     ]
    },
    {
     "name": "stdout",
     "output_type": "stream",
     "text": [
      "Repository data is None for thisiscindychou/roblox-solara-executors\n",
      "Repository data is None for timigsh2mos/fortnite-hack-external\n"
     ]
    },
    {
     "name": "stderr",
     "output_type": "stream",
     "text": [
      "Fetching repo details:  35%|███▌      | 354/1000 [00:12<00:21, 29.42it/s]"
     ]
    },
    {
     "name": "stdout",
     "output_type": "stream",
     "text": [
      "Repository data is None for Dilodova/Roblox-Executor-Xeno-v1.0.9\n"
     ]
    },
    {
     "name": "stderr",
     "output_type": "stream",
     "text": [
      "Fetching repo details:  46%|████▋     | 465/1000 [00:16<00:16, 31.85it/s]"
     ]
    },
    {
     "name": "stdout",
     "output_type": "stream",
     "text": [
      "Repository data is None for spear-blackseeker/Solara-Executor-Roblox\n"
     ]
    },
    {
     "name": "stderr",
     "output_type": "stream",
     "text": [
      "Fetching repo details:  51%|█████     | 506/1000 [00:17<00:16, 30.05it/s]"
     ]
    },
    {
     "name": "stdout",
     "output_type": "stream",
     "text": [
      "Repository data is None for kotskirk852/verse-spoofer\n",
      "Repository data is None for beastamya8/Roblox-Synapse-X\n"
     ]
    },
    {
     "name": "stderr",
     "output_type": "stream",
     "text": [
      "Fetching repo details: 100%|██████████| 1000/1000 [00:34<00:00, 28.63it/s]\n"
     ]
    }
   ],
   "source": [
    "import requests\n",
    "import pandas as pd\n",
    "from tqdm import tqdm\n",
    "from concurrent.futures import ThreadPoolExecutor, as_completed\n",
    "\n",
    "\n",
    "# GitHub GraphQL API URL\n",
    "GRAPHQL_URL = \"https://api.github.com/graphql\"\n",
    "\n",
    "# GitHub Token (替换为你的 Token)\n",
    "TOKEN = \"your_github_token\"\n",
    "\n",
    "# 设置请求头\n",
    "HEADERS = {\n",
    "    \"Authorization\": f\"bearer {TOKEN}\",\n",
    "    \"Content-Type\": \"application/json\"\n",
    "}\n",
    "\n",
    "# 构建 GraphQL 查询模板\n",
    "GRAPHQL_QUERY_TEMPLATE = \"\"\"\n",
    "query {{\n",
    "  repository(owner: \"{repo_owner}\", name: \"{repo_name}\") {{\n",
    "    createdAt\n",
    "    stargazerCount\n",
    "  }}\n",
    "}}\n",
    "\"\"\"\n",
    "\n",
    "# 请求函数，获取仓库信息\n",
    "def fetch_repo_details(repo_name):\n",
    "    \"\"\"\n",
    "    使用 GitHub GraphQL API 获取仓库的创建日期和 star 总数。\n",
    "    \"\"\"\n",
    "    if \"/\" not in repo_name:\n",
    "        return None, None  # 无效的 repo_name\n",
    "    \n",
    "    repo_owner, repo_name_only = repo_name.split(\"/\", 1)\n",
    "    \n",
    "    query = GRAPHQL_QUERY_TEMPLATE.format(repo_owner=repo_owner, repo_name=repo_name_only)\n",
    "    \n",
    "    # 发送请求\n",
    "    try:\n",
    "        response = requests.post(\n",
    "            GRAPHQL_URL,\n",
    "            json={\"query\": query},\n",
    "            headers=HEADERS\n",
    "        )\n",
    "        # 检查请求是否成功\n",
    "        if response.status_code == 200:\n",
    "            data = response.json()\n",
    "            # 确保 data 和 repository 存在且有效\n",
    "            if \"data\" in data and \"repository\" in data[\"data\"]:\n",
    "                repo_data = data[\"data\"][\"repository\"]\n",
    "                if repo_data is not None:\n",
    "                    return repo_data.get(\"createdAt\"), repo_data.get(\"stargazerCount\")\n",
    "                else:\n",
    "                    print(f\"Repository data is None for {repo_name}\")\n",
    "            else:\n",
    "                print(f\"Missing 'data' or 'repository' for {repo_name}\")\n",
    "        else:\n",
    "            print(f\"Failed to fetch data for {repo_name}: {response.status_code}, {response.text}\")\n",
    "    except requests.exceptions.RequestException as e:\n",
    "        # 捕获请求中的异常\n",
    "        print(f\"Request failed for {repo_name}: {str(e)}\")\n",
    "    \n",
    "    # 出现问题时返回 None\n",
    "    return None, None\n",
    "\n",
    "# 处理并行化请求\n",
    "def fetch_repo_details_parallel(df):\n",
    "    results = []\n",
    "    \n",
    "    # 使用 ThreadPoolExecutor 进行并行化\n",
    "    with ThreadPoolExecutor(max_workers=10) as executor:\n",
    "        futures = {executor.submit(fetch_repo_details, row[\"repo_name\"]): index for index, row in df.iterrows()}\n",
    "        \n",
    "        # 显示进度条\n",
    "        for future in tqdm(as_completed(futures), total=len(futures), desc=\"Fetching repo details\"):\n",
    "            index = futures[future]\n",
    "            created_at, stargazer_count = future.result()\n",
    "            df.at[index, \"created_at\"] = created_at\n",
    "            df.at[index, \"current_star_count\"] = stargazer_count\n",
    "    \n",
    "    return df\n",
    "\n",
    "# 假设你已经得到了如下的 DataFrame\n",
    "df = results  # BigQuery 查询的结果 DataFrame\n",
    "\n",
    "# 添加两列：创建日期和 star 总数\n",
    "df[\"created_at\"] = None\n",
    "df[\"current_star_count\"] = None\n",
    "\n",
    "# 执行并行化的获取仓库信息\n",
    "df = fetch_repo_details_parallel(df)\n"
   ]
  },
  {
   "cell_type": "code",
   "execution_count": 3,
   "metadata": {},
   "outputs": [
    {
     "data": {
      "text/html": [
       "<div>\n",
       "<style scoped>\n",
       "    .dataframe tbody tr th:only-of-type {\n",
       "        vertical-align: middle;\n",
       "    }\n",
       "\n",
       "    .dataframe tbody tr th {\n",
       "        vertical-align: top;\n",
       "    }\n",
       "\n",
       "    .dataframe thead th {\n",
       "        text-align: right;\n",
       "    }\n",
       "</style>\n",
       "<table border=\"1\" class=\"dataframe\">\n",
       "  <thead>\n",
       "    <tr style=\"text-align: right;\">\n",
       "      <th></th>\n",
       "      <th>repo_name</th>\n",
       "      <th>star_count</th>\n",
       "      <th>created_at</th>\n",
       "      <th>current_star_count</th>\n",
       "    </tr>\n",
       "  </thead>\n",
       "  <tbody>\n",
       "    <tr>\n",
       "      <th>0</th>\n",
       "      <td>Tencent/HunyuanVideo</td>\n",
       "      <td>2037</td>\n",
       "      <td>2024-11-28T08:38:31Z</td>\n",
       "      <td>2249</td>\n",
       "    </tr>\n",
       "    <tr>\n",
       "      <th>1</th>\n",
       "      <td>LadybirdBrowser/ladybird</td>\n",
       "      <td>1622</td>\n",
       "      <td>2024-05-30T09:18:10Z</td>\n",
       "      <td>24852</td>\n",
       "    </tr>\n",
       "    <tr>\n",
       "      <th>2</th>\n",
       "      <td>huggingface/smol-course</td>\n",
       "      <td>1369</td>\n",
       "      <td>2024-11-25T19:22:43Z</td>\n",
       "      <td>1578</td>\n",
       "    </tr>\n",
       "    <tr>\n",
       "      <th>3</th>\n",
       "      <td>myhhub/stock</td>\n",
       "      <td>1015</td>\n",
       "      <td>2023-03-21T01:23:26Z</td>\n",
       "      <td>5254</td>\n",
       "    </tr>\n",
       "    <tr>\n",
       "      <th>4</th>\n",
       "      <td>lobehub/lobe-chat</td>\n",
       "      <td>868</td>\n",
       "      <td>2023-05-21T07:19:12Z</td>\n",
       "      <td>47045</td>\n",
       "    </tr>\n",
       "    <tr>\n",
       "      <th>...</th>\n",
       "      <td>...</td>\n",
       "      <td>...</td>\n",
       "      <td>...</td>\n",
       "      <td>...</td>\n",
       "    </tr>\n",
       "    <tr>\n",
       "      <th>995</th>\n",
       "      <td>StacklokLabs/promptwright</td>\n",
       "      <td>27</td>\n",
       "      <td>2024-10-25T10:59:05Z</td>\n",
       "      <td>288</td>\n",
       "    </tr>\n",
       "    <tr>\n",
       "      <th>996</th>\n",
       "      <td>Fansirsqi/Sesame-TK</td>\n",
       "      <td>27</td>\n",
       "      <td>2024-10-17T09:21:08Z</td>\n",
       "      <td>214</td>\n",
       "    </tr>\n",
       "    <tr>\n",
       "      <th>997</th>\n",
       "      <td>vuejs/vue</td>\n",
       "      <td>27</td>\n",
       "      <td>2013-07-29T03:24:51Z</td>\n",
       "      <td>208086</td>\n",
       "    </tr>\n",
       "    <tr>\n",
       "      <th>998</th>\n",
       "      <td>PanJiaChen/vue-element-admin</td>\n",
       "      <td>27</td>\n",
       "      <td>2017-04-17T03:35:49Z</td>\n",
       "      <td>88163</td>\n",
       "    </tr>\n",
       "    <tr>\n",
       "      <th>999</th>\n",
       "      <td>WICG/webmonetization</td>\n",
       "      <td>27</td>\n",
       "      <td>2018-09-07T23:17:11Z</td>\n",
       "      <td>514</td>\n",
       "    </tr>\n",
       "  </tbody>\n",
       "</table>\n",
       "<p>1000 rows × 4 columns</p>\n",
       "</div>"
      ],
      "text/plain": [
       "                        repo_name  star_count            created_at  \\\n",
       "0            Tencent/HunyuanVideo        2037  2024-11-28T08:38:31Z   \n",
       "1        LadybirdBrowser/ladybird        1622  2024-05-30T09:18:10Z   \n",
       "2         huggingface/smol-course        1369  2024-11-25T19:22:43Z   \n",
       "3                    myhhub/stock        1015  2023-03-21T01:23:26Z   \n",
       "4               lobehub/lobe-chat         868  2023-05-21T07:19:12Z   \n",
       "..                            ...         ...                   ...   \n",
       "995     StacklokLabs/promptwright          27  2024-10-25T10:59:05Z   \n",
       "996           Fansirsqi/Sesame-TK          27  2024-10-17T09:21:08Z   \n",
       "997                     vuejs/vue          27  2013-07-29T03:24:51Z   \n",
       "998  PanJiaChen/vue-element-admin          27  2017-04-17T03:35:49Z   \n",
       "999          WICG/webmonetization          27  2018-09-07T23:17:11Z   \n",
       "\n",
       "    current_star_count  \n",
       "0                 2249  \n",
       "1                24852  \n",
       "2                 1578  \n",
       "3                 5254  \n",
       "4                47045  \n",
       "..                 ...  \n",
       "995                288  \n",
       "996                214  \n",
       "997             208086  \n",
       "998              88163  \n",
       "999                514  \n",
       "\n",
       "[1000 rows x 4 columns]"
      ]
     },
     "execution_count": 3,
     "metadata": {},
     "output_type": "execute_result"
    }
   ],
   "source": [
    "df"
   ]
  },
  {
   "cell_type": "code",
   "execution_count": 4,
   "metadata": {},
   "outputs": [],
   "source": [
    "# 确保 created_at 是 datetime 类型\n",
    "df[\"created_at\"] = pd.to_datetime(df[\"created_at\"])\n",
    "\n",
    "# 按照 created_at 升序排序\n",
    "df_sorted = df.sort_values(by=\"created_at\", ascending=False)\n"
   ]
  },
  {
   "cell_type": "code",
   "execution_count": 5,
   "metadata": {},
   "outputs": [],
   "source": [
    "df_sorted.to_csv('result.csv')"
   ]
  }
 ],
 "metadata": {
  "kernelspec": {
   "display_name": "Python 3",
   "language": "python",
   "name": "python3"
  },
  "language_info": {
   "codemirror_mode": {
    "name": "ipython",
    "version": 3
   },
   "file_extension": ".py",
   "mimetype": "text/x-python",
   "name": "python",
   "nbconvert_exporter": "python",
   "pygments_lexer": "ipython3",
   "version": "3.12.1"
  }
 },
 "nbformat": 4,
 "nbformat_minor": 2
}
